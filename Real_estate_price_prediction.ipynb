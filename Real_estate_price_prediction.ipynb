{
  "nbformat": 4,
  "nbformat_minor": 0,
  "metadata": {
    "colab": {
      "provenance": [],
      "collapsed_sections": []
    },
    "kernelspec": {
      "display_name": "Python 3",
      "name": "python3"
    },
    "language_info": {
      "name": "python"
    }
  },
  "cells": [
    {
      "cell_type": "code",
      "metadata": {
        "id": "c3_qWzFWAPVX"
      },
      "source": [
        "import numpy as np\n",
        "import pandas as pd\n",
        "import matplotlib.pyplot as plt\n",
        "import seaborn as sns\n",
        "import sklearn.datasets\n",
        "from sklearn.model_selection import train_test_split\n",
        "from xgboost import XGBRegressor\n",
        "from sklearn import metrics"
      ],
      "execution_count": null,
      "outputs": []
    },
    {
      "cell_type": "code",
      "metadata": {
        "id": "soaMAiS2wDcA",
        "colab": {
          "base_uri": "https://localhost:8080/"
        },
        "outputId": "d839cddf-df8d-4774-8d95-77ea754304ea"
      },
      "source": [
        "from google.colab import drive\n",
        "drive.mount('/content/drive')"
      ],
      "execution_count": null,
      "outputs": [
        {
          "output_type": "stream",
          "name": "stdout",
          "text": [
            "Mounted at /content/drive\n"
          ]
        }
      ]
    },
    {
      "cell_type": "code",
      "metadata": {
        "id": "bCBlrvbSARQt"
      },
      "source": [
        "import pandas as pd\n",
        "real_estate_dataset = pd.read_csv(\"/content/Real estate.csv\")\n"
      ],
      "execution_count": null,
      "outputs": []
    },
    {
      "cell_type": "code",
      "metadata": {
        "colab": {
          "base_uri": "https://localhost:8080/"
        },
        "id": "OI88WYCgO0MR",
        "outputId": "80863bf6-f805-4791-a70d-a7260bc30456"
      },
      "source": [
        "print(real_estate_dataset)"
      ],
      "execution_count": null,
      "outputs": [
        {
          "output_type": "stream",
          "name": "stdout",
          "text": [
            "      No  X1 transaction date  X2 house age  \\\n",
            "0      1             2012.917          32.0   \n",
            "1      2             2012.917          19.5   \n",
            "2      3             2013.583          13.3   \n",
            "3      4             2013.500          13.3   \n",
            "4      5             2012.833           5.0   \n",
            "..   ...                  ...           ...   \n",
            "409  410             2013.000          13.7   \n",
            "410  411             2012.667           5.6   \n",
            "411  412             2013.250          18.8   \n",
            "412  413             2013.000           8.1   \n",
            "413  414             2013.500           6.5   \n",
            "\n",
            "     X3 distance to the nearest MRT station  X4 number of convenience stores  \\\n",
            "0                                  84.87882                               10   \n",
            "1                                 306.59470                                9   \n",
            "2                                 561.98450                                5   \n",
            "3                                 561.98450                                5   \n",
            "4                                 390.56840                                5   \n",
            "..                                      ...                              ...   \n",
            "409                              4082.01500                                0   \n",
            "410                                90.45606                                9   \n",
            "411                               390.96960                                7   \n",
            "412                               104.81010                                5   \n",
            "413                                90.45606                                9   \n",
            "\n",
            "     X5 latitude  X6 longitude  Y house price of unit area  \n",
            "0       24.98298     121.54024                        37.9  \n",
            "1       24.98034     121.53951                        42.2  \n",
            "2       24.98746     121.54391                        47.3  \n",
            "3       24.98746     121.54391                        54.8  \n",
            "4       24.97937     121.54245                        43.1  \n",
            "..           ...           ...                         ...  \n",
            "409     24.94155     121.50381                        15.4  \n",
            "410     24.97433     121.54310                        50.0  \n",
            "411     24.97923     121.53986                        40.6  \n",
            "412     24.96674     121.54067                        52.5  \n",
            "413     24.97433     121.54310                        63.9  \n",
            "\n",
            "[414 rows x 8 columns]\n"
          ]
        }
      ]
    },
    {
      "cell_type": "code",
      "metadata": {
        "colab": {
          "base_uri": "https://localhost:8080/"
        },
        "id": "fENk5o92Pano",
        "outputId": "61ede1a1-c66f-47a8-cb03-7ea0a66a1b28"
      },
      "source": [
        "real_estate_dataset.shape"
      ],
      "execution_count": null,
      "outputs": [
        {
          "output_type": "execute_result",
          "data": {
            "text/plain": [
              "(414, 8)"
            ]
          },
          "metadata": {},
          "execution_count": 13
        }
      ]
    },
    {
      "cell_type": "code",
      "metadata": {
        "colab": {
          "base_uri": "https://localhost:8080/"
        },
        "id": "C3_tnFDLQ6nj",
        "outputId": "c0826ec8-b356-4ce8-f538-7de8ca1a1e76"
      },
      "source": [
        "real_estate_dataset.isnull().sum()"
      ],
      "execution_count": null,
      "outputs": [
        {
          "output_type": "execute_result",
          "data": {
            "text/plain": [
              "No                                        0\n",
              "X1 transaction date                       0\n",
              "X2 house age                              0\n",
              "X3 distance to the nearest MRT station    0\n",
              "X4 number of convenience stores           0\n",
              "X5 latitude                               0\n",
              "X6 longitude                              0\n",
              "Y house price of unit area                0\n",
              "dtype: int64"
            ]
          },
          "metadata": {},
          "execution_count": 14
        }
      ]
    },
    {
      "cell_type": "code",
      "metadata": {
        "colab": {
          "base_uri": "https://localhost:8080/",
          "height": 396
        },
        "id": "J_n3vu4bRQNZ",
        "outputId": "3d294be9-a610-4e50-86d2-75da1a87ce24"
      },
      "source": [
        "real_estate_dataset.describe()"
      ],
      "execution_count": null,
      "outputs": [
        {
          "output_type": "execute_result",
          "data": {
            "text/plain": [
              "               No  X1 transaction date  X2 house age  \\\n",
              "count  414.000000           414.000000    414.000000   \n",
              "mean   207.500000          2013.148971     17.712560   \n",
              "std    119.655756             0.281967     11.392485   \n",
              "min      1.000000          2012.667000      0.000000   \n",
              "25%    104.250000          2012.917000      9.025000   \n",
              "50%    207.500000          2013.167000     16.100000   \n",
              "75%    310.750000          2013.417000     28.150000   \n",
              "max    414.000000          2013.583000     43.800000   \n",
              "\n",
              "       X3 distance to the nearest MRT station  \\\n",
              "count                              414.000000   \n",
              "mean                              1083.885689   \n",
              "std                               1262.109595   \n",
              "min                                 23.382840   \n",
              "25%                                289.324800   \n",
              "50%                                492.231300   \n",
              "75%                               1454.279000   \n",
              "max                               6488.021000   \n",
              "\n",
              "       X4 number of convenience stores  X5 latitude  X6 longitude  \\\n",
              "count                       414.000000   414.000000    414.000000   \n",
              "mean                          4.094203    24.969030    121.533361   \n",
              "std                           2.945562     0.012410      0.015347   \n",
              "min                           0.000000    24.932070    121.473530   \n",
              "25%                           1.000000    24.963000    121.528085   \n",
              "50%                           4.000000    24.971100    121.538630   \n",
              "75%                           6.000000    24.977455    121.543305   \n",
              "max                          10.000000    25.014590    121.566270   \n",
              "\n",
              "       Y house price of unit area  \n",
              "count                  414.000000  \n",
              "mean                    37.980193  \n",
              "std                     13.606488  \n",
              "min                      7.600000  \n",
              "25%                     27.700000  \n",
              "50%                     38.450000  \n",
              "75%                     46.600000  \n",
              "max                    117.500000  "
            ],
            "text/html": [
              "\n",
              "  <div id=\"df-eb7e13ec-6d31-480b-b524-e2df7fdc6cf0\">\n",
              "    <div class=\"colab-df-container\">\n",
              "      <div>\n",
              "<style scoped>\n",
              "    .dataframe tbody tr th:only-of-type {\n",
              "        vertical-align: middle;\n",
              "    }\n",
              "\n",
              "    .dataframe tbody tr th {\n",
              "        vertical-align: top;\n",
              "    }\n",
              "\n",
              "    .dataframe thead th {\n",
              "        text-align: right;\n",
              "    }\n",
              "</style>\n",
              "<table border=\"1\" class=\"dataframe\">\n",
              "  <thead>\n",
              "    <tr style=\"text-align: right;\">\n",
              "      <th></th>\n",
              "      <th>No</th>\n",
              "      <th>X1 transaction date</th>\n",
              "      <th>X2 house age</th>\n",
              "      <th>X3 distance to the nearest MRT station</th>\n",
              "      <th>X4 number of convenience stores</th>\n",
              "      <th>X5 latitude</th>\n",
              "      <th>X6 longitude</th>\n",
              "      <th>Y house price of unit area</th>\n",
              "    </tr>\n",
              "  </thead>\n",
              "  <tbody>\n",
              "    <tr>\n",
              "      <th>count</th>\n",
              "      <td>414.000000</td>\n",
              "      <td>414.000000</td>\n",
              "      <td>414.000000</td>\n",
              "      <td>414.000000</td>\n",
              "      <td>414.000000</td>\n",
              "      <td>414.000000</td>\n",
              "      <td>414.000000</td>\n",
              "      <td>414.000000</td>\n",
              "    </tr>\n",
              "    <tr>\n",
              "      <th>mean</th>\n",
              "      <td>207.500000</td>\n",
              "      <td>2013.148971</td>\n",
              "      <td>17.712560</td>\n",
              "      <td>1083.885689</td>\n",
              "      <td>4.094203</td>\n",
              "      <td>24.969030</td>\n",
              "      <td>121.533361</td>\n",
              "      <td>37.980193</td>\n",
              "    </tr>\n",
              "    <tr>\n",
              "      <th>std</th>\n",
              "      <td>119.655756</td>\n",
              "      <td>0.281967</td>\n",
              "      <td>11.392485</td>\n",
              "      <td>1262.109595</td>\n",
              "      <td>2.945562</td>\n",
              "      <td>0.012410</td>\n",
              "      <td>0.015347</td>\n",
              "      <td>13.606488</td>\n",
              "    </tr>\n",
              "    <tr>\n",
              "      <th>min</th>\n",
              "      <td>1.000000</td>\n",
              "      <td>2012.667000</td>\n",
              "      <td>0.000000</td>\n",
              "      <td>23.382840</td>\n",
              "      <td>0.000000</td>\n",
              "      <td>24.932070</td>\n",
              "      <td>121.473530</td>\n",
              "      <td>7.600000</td>\n",
              "    </tr>\n",
              "    <tr>\n",
              "      <th>25%</th>\n",
              "      <td>104.250000</td>\n",
              "      <td>2012.917000</td>\n",
              "      <td>9.025000</td>\n",
              "      <td>289.324800</td>\n",
              "      <td>1.000000</td>\n",
              "      <td>24.963000</td>\n",
              "      <td>121.528085</td>\n",
              "      <td>27.700000</td>\n",
              "    </tr>\n",
              "    <tr>\n",
              "      <th>50%</th>\n",
              "      <td>207.500000</td>\n",
              "      <td>2013.167000</td>\n",
              "      <td>16.100000</td>\n",
              "      <td>492.231300</td>\n",
              "      <td>4.000000</td>\n",
              "      <td>24.971100</td>\n",
              "      <td>121.538630</td>\n",
              "      <td>38.450000</td>\n",
              "    </tr>\n",
              "    <tr>\n",
              "      <th>75%</th>\n",
              "      <td>310.750000</td>\n",
              "      <td>2013.417000</td>\n",
              "      <td>28.150000</td>\n",
              "      <td>1454.279000</td>\n",
              "      <td>6.000000</td>\n",
              "      <td>24.977455</td>\n",
              "      <td>121.543305</td>\n",
              "      <td>46.600000</td>\n",
              "    </tr>\n",
              "    <tr>\n",
              "      <th>max</th>\n",
              "      <td>414.000000</td>\n",
              "      <td>2013.583000</td>\n",
              "      <td>43.800000</td>\n",
              "      <td>6488.021000</td>\n",
              "      <td>10.000000</td>\n",
              "      <td>25.014590</td>\n",
              "      <td>121.566270</td>\n",
              "      <td>117.500000</td>\n",
              "    </tr>\n",
              "  </tbody>\n",
              "</table>\n",
              "</div>\n",
              "      <button class=\"colab-df-convert\" onclick=\"convertToInteractive('df-eb7e13ec-6d31-480b-b524-e2df7fdc6cf0')\"\n",
              "              title=\"Convert this dataframe to an interactive table.\"\n",
              "              style=\"display:none;\">\n",
              "        \n",
              "  <svg xmlns=\"http://www.w3.org/2000/svg\" height=\"24px\"viewBox=\"0 0 24 24\"\n",
              "       width=\"24px\">\n",
              "    <path d=\"M0 0h24v24H0V0z\" fill=\"none\"/>\n",
              "    <path d=\"M18.56 5.44l.94 2.06.94-2.06 2.06-.94-2.06-.94-.94-2.06-.94 2.06-2.06.94zm-11 1L8.5 8.5l.94-2.06 2.06-.94-2.06-.94L8.5 2.5l-.94 2.06-2.06.94zm10 10l.94 2.06.94-2.06 2.06-.94-2.06-.94-.94-2.06-.94 2.06-2.06.94z\"/><path d=\"M17.41 7.96l-1.37-1.37c-.4-.4-.92-.59-1.43-.59-.52 0-1.04.2-1.43.59L10.3 9.45l-7.72 7.72c-.78.78-.78 2.05 0 2.83L4 21.41c.39.39.9.59 1.41.59.51 0 1.02-.2 1.41-.59l7.78-7.78 2.81-2.81c.8-.78.8-2.07 0-2.86zM5.41 20L4 18.59l7.72-7.72 1.47 1.35L5.41 20z\"/>\n",
              "  </svg>\n",
              "      </button>\n",
              "      \n",
              "  <style>\n",
              "    .colab-df-container {\n",
              "      display:flex;\n",
              "      flex-wrap:wrap;\n",
              "      gap: 12px;\n",
              "    }\n",
              "\n",
              "    .colab-df-convert {\n",
              "      background-color: #E8F0FE;\n",
              "      border: none;\n",
              "      border-radius: 50%;\n",
              "      cursor: pointer;\n",
              "      display: none;\n",
              "      fill: #1967D2;\n",
              "      height: 32px;\n",
              "      padding: 0 0 0 0;\n",
              "      width: 32px;\n",
              "    }\n",
              "\n",
              "    .colab-df-convert:hover {\n",
              "      background-color: #E2EBFA;\n",
              "      box-shadow: 0px 1px 2px rgba(60, 64, 67, 0.3), 0px 1px 3px 1px rgba(60, 64, 67, 0.15);\n",
              "      fill: #174EA6;\n",
              "    }\n",
              "\n",
              "    [theme=dark] .colab-df-convert {\n",
              "      background-color: #3B4455;\n",
              "      fill: #D2E3FC;\n",
              "    }\n",
              "\n",
              "    [theme=dark] .colab-df-convert:hover {\n",
              "      background-color: #434B5C;\n",
              "      box-shadow: 0px 1px 3px 1px rgba(0, 0, 0, 0.15);\n",
              "      filter: drop-shadow(0px 1px 2px rgba(0, 0, 0, 0.3));\n",
              "      fill: #FFFFFF;\n",
              "    }\n",
              "  </style>\n",
              "\n",
              "      <script>\n",
              "        const buttonEl =\n",
              "          document.querySelector('#df-eb7e13ec-6d31-480b-b524-e2df7fdc6cf0 button.colab-df-convert');\n",
              "        buttonEl.style.display =\n",
              "          google.colab.kernel.accessAllowed ? 'block' : 'none';\n",
              "\n",
              "        async function convertToInteractive(key) {\n",
              "          const element = document.querySelector('#df-eb7e13ec-6d31-480b-b524-e2df7fdc6cf0');\n",
              "          const dataTable =\n",
              "            await google.colab.kernel.invokeFunction('convertToInteractive',\n",
              "                                                     [key], {});\n",
              "          if (!dataTable) return;\n",
              "\n",
              "          const docLinkHtml = 'Like what you see? Visit the ' +\n",
              "            '<a target=\"_blank\" href=https://colab.research.google.com/notebooks/data_table.ipynb>data table notebook</a>'\n",
              "            + ' to learn more about interactive tables.';\n",
              "          element.innerHTML = '';\n",
              "          dataTable['output_type'] = 'display_data';\n",
              "          await google.colab.output.renderOutput(dataTable, element);\n",
              "          const docLink = document.createElement('div');\n",
              "          docLink.innerHTML = docLinkHtml;\n",
              "          element.appendChild(docLink);\n",
              "        }\n",
              "      </script>\n",
              "    </div>\n",
              "  </div>\n",
              "  "
            ]
          },
          "metadata": {},
          "execution_count": 15
        }
      ]
    },
    {
      "cell_type": "markdown",
      "metadata": {
        "id": "GA1J-x9QRjaj"
      },
      "source": [
        "understanding the corelation between various features in the dataset\n",
        "\n",
        "1 positive corelation \n",
        "2 negative corelation"
      ]
    },
    {
      "cell_type": "code",
      "metadata": {
        "id": "GYiUfeC2Rgmo"
      },
      "source": [
        "correlation = real_estate_dataset.corr()"
      ],
      "execution_count": null,
      "outputs": []
    },
    {
      "cell_type": "code",
      "metadata": {
        "colab": {
          "base_uri": "https://localhost:8080/",
          "height": 648
        },
        "id": "dpIyJ1-cSUXR",
        "outputId": "28d16715-95f2-4af3-fd7d-42415cc4cf68"
      },
      "source": [
        "import matplotlib.pyplot as plt\n",
        "import seaborn as sns\n",
        "plt.figure(figsize=(8,8))\n",
        "sns.heatmap(correlation,cbar=True,square=True,fmt='.1f',annot=True,annot_kws={'size':8},cmap='Blues')"
      ],
      "execution_count": null,
      "outputs": [
        {
          "output_type": "execute_result",
          "data": {
            "text/plain": [
              "<matplotlib.axes._subplots.AxesSubplot at 0x7fd7b03bac90>"
            ]
          },
          "metadata": {},
          "execution_count": 20
        },
        {
          "output_type": "display_data",
          "data": {
            "text/plain": [
              "<Figure size 576x576 with 2 Axes>"
            ],
            "image/png": "[encoded data removed]"
          },
          "metadata": {
            "needs_background": "light"
          }
        }
      ]
    },
    {
      "cell_type": "code",
      "metadata": {
        "id": "RMcpEKyZTX8o"
      },
      "source": [
        "m = real_estate_dataset.drop(['Y house price of unit area'],axis=1)\n",
        "n = m.drop([\"X1 transaction date\"], axis = 1)\n",
        "x = n.drop([\"No\"],axis=1)\n",
        "y = real_estate_dataset['Y house price of unit area']"
      ],
      "execution_count": null,
      "outputs": []
    },
    {
      "cell_type": "code",
      "metadata": {
        "colab": {
          "base_uri": "https://localhost:8080/"
        },
        "id": "sNaui8qXWicj",
        "outputId": "b1b6ca28-fdc3-4656-ad1e-5f67dfbefca9"
      },
      "source": [
        "print(x,y)"
      ],
      "execution_count": null,
      "outputs": [
        {
          "output_type": "stream",
          "name": "stdout",
          "text": [
            "     X2 house age  X3 distance to the nearest MRT station  \\\n",
            "0            32.0                                84.87882   \n",
            "1            19.5                               306.59470   \n",
            "2            13.3                               561.98450   \n",
            "3            13.3                               561.98450   \n",
            "4             5.0                               390.56840   \n",
            "..            ...                                     ...   \n",
            "409          13.7                              4082.01500   \n",
            "410           5.6                                90.45606   \n",
            "411          18.8                               390.96960   \n",
            "412           8.1                               104.81010   \n",
            "413           6.5                                90.45606   \n",
            "\n",
            "     X4 number of convenience stores  X5 latitude  X6 longitude  \n",
            "0                                 10     24.98298     121.54024  \n",
            "1                                  9     24.98034     121.53951  \n",
            "2                                  5     24.98746     121.54391  \n",
            "3                                  5     24.98746     121.54391  \n",
            "4                                  5     24.97937     121.54245  \n",
            "..                               ...          ...           ...  \n",
            "409                                0     24.94155     121.50381  \n",
            "410                                9     24.97433     121.54310  \n",
            "411                                7     24.97923     121.53986  \n",
            "412                                5     24.96674     121.54067  \n",
            "413                                9     24.97433     121.54310  \n",
            "\n",
            "[414 rows x 5 columns] 0      37.9\n",
            "1      42.2\n",
            "2      47.3\n",
            "3      54.8\n",
            "4      43.1\n",
            "       ... \n",
            "409    15.4\n",
            "410    50.0\n",
            "411    40.6\n",
            "412    52.5\n",
            "413    63.9\n",
            "Name: Y house price of unit area, Length: 414, dtype: float64\n"
          ]
        }
      ]
    },
    {
      "cell_type": "markdown",
      "metadata": {
        "id": "YeQhi-eW1-Z-"
      },
      "source": [
        "Spilliting the data into training data and test data"
      ]
    },
    {
      "cell_type": "code",
      "metadata": {
        "id": "RnoJxbOQ12Of"
      },
      "source": [
        "import sklearn.datasets\n",
        "from sklearn.model_selection import train_test_split\n",
        "x_train, x_test, y_train, y_test = train_test_split(x, y, test_size = 0.2, random_state = 2)"
      ],
      "execution_count": null,
      "outputs": []
    },
    {
      "cell_type": "code",
      "metadata": {
        "colab": {
          "base_uri": "https://localhost:8080/"
        },
        "id": "Fu9ErCbI5QS7",
        "outputId": "d74d7e6d-12f7-42c9-eee6-a3926f9f6939"
      },
      "source": [
        "print(x.shape,x_train.shape,x_test.shape)"
      ],
      "execution_count": null,
      "outputs": [
        {
          "output_type": "stream",
          "name": "stdout",
          "text": [
            "(414, 5) (331, 5) (83, 5)\n"
          ]
        }
      ]
    },
    {
      "cell_type": "markdown",
      "metadata": {
        "id": "pzR7TGzY5k7Z"
      },
      "source": [
        "model training"
      ]
    },
    {
      "cell_type": "markdown",
      "metadata": {
        "id": "SFE6d4ui5zLR"
      },
      "source": [
        "XGBoost Regressor"
      ]
    },
    {
      "cell_type": "code",
      "metadata": {
        "id": "k7a4Wtj_5jI6"
      },
      "source": [
        "from xgboost import XGBRegressor\n",
        "model = XGBRegressor()"
      ],
      "execution_count": null,
      "outputs": []
    },
    {
      "cell_type": "code",
      "metadata": {
        "colab": {
          "base_uri": "https://localhost:8080/"
        },
        "id": "92vDUJel6P6x",
        "outputId": "c53e9390-b531-4ce2-fcfd-ffb0a75a9232"
      },
      "source": [
        "model.fit(x_train,y_train)"
      ],
      "execution_count": null,
      "outputs": [
        {
          "output_type": "stream",
          "name": "stdout",
          "text": [
            "[04:18:01] WARNING: /workspace/src/objective/regression_obj.cu:152: reg:linear is now deprecated in favor of reg:squarederror.\n"
          ]
        },
        {
          "output_type": "execute_result",
          "data": {
            "text/plain": [
              "XGBRegressor()"
            ]
          },
          "metadata": {},
          "execution_count": 28
        }
      ]
    },
    {
      "cell_type": "markdown",
      "metadata": {
        "id": "Ryw96tqC6g9m"
      },
      "source": [
        "evaluation"
      ]
    },
    {
      "cell_type": "markdown",
      "metadata": {
        "id": "dxGUVzlW6rpl"
      },
      "source": [
        "prediction on training data"
      ]
    },
    {
      "cell_type": "code",
      "metadata": {
        "id": "lzdy7tnG6ca4"
      },
      "source": [
        "training_data_prediction = model.predict(x_train)"
      ],
      "execution_count": null,
      "outputs": []
    },
    {
      "cell_type": "code",
      "metadata": {
        "colab": {
          "base_uri": "https://localhost:8080/"
        },
        "id": "etVwsIz76_WY",
        "outputId": "40bdc6d3-07ad-4e54-f7b9-ce5ca228897c"
      },
      "source": [
        "print(training_data_prediction)"
      ],
      "execution_count": null,
      "outputs": [
        {
          "output_type": "stream",
          "name": "stdout",
          "text": [
            "[41.201878  38.39382   36.415066  37.84979   38.397686  35.812744\n",
            " 16.973469  48.784676  51.832546  32.660778  25.024721  28.306185\n",
            " 30.364964  48.05037   68.610275  16.749184  42.775433  38.39382\n",
            " 67.00384   17.236444  17.638607  42.15806   46.66619   50.293636\n",
            " 48.890366  29.210588  36.85624   45.497814  35.52799   39.082428\n",
            " 38.566025  48.784676  38.87153   49.582058  61.22832   42.478363\n",
            " 29.761961  49.158062  35.591846  39.12596   40.1961    22.889244\n",
            " 40.64863   48.679714  17.638607  50.503902  41.0861    50.18855\n",
            " 41.19698   16.854273  38.051567  24.563814  46.914925  31.709307\n",
            " 40.215405  57.308304  37.829597  56.008698  26.521168  56.04104\n",
            " 57.153576  17.20986   49.522434  30.079031  47.821198  36.319283\n",
            " 50.18855   25.176487  39.12596   28.324472  16.86838   16.749184\n",
            " 28.081675  26.763966  15.562679  46.28916   57.308304  46.731358\n",
            " 25.443567  42.368534  34.77176   53.97698   56.77765   57.308304\n",
            " 54.379993  27.64128   28.483625  48.679714  50.265434  25.844368\n",
            " 48.82186   40.419777  25.426672  36.73521   46.948284  50.49585\n",
            " 25.056246  24.818834  41.509834  44.901215  28.316742  50.18855\n",
            " 42.870804  42.721542  38.72519   50.18855   48.832417  28.713896\n",
            " 38.702183  48.679714  67.00384   47.741642  29.947525  47.741642\n",
            " 56.77765   44.23675   27.268898  67.00384   39.418888  45.727177\n",
            " 48.784676  20.470749  50.18855   46.281013  27.268898  44.007183\n",
            " 35.867565  48.679714  16.973469  29.761961  25.844368  35.64145\n",
            " 40.50453   42.856743  40.271034  37.19468   50.265434  24.19259\n",
            " 25.136448  44.087685  46.636806  46.731358  56.77765   16.973469\n",
            " 42.83066   39.248558  41.0861    56.49759   27.268898  67.00384\n",
            " 52.19328   22.661148  41.967995  69.85697   50.18855   19.951159\n",
            " 36.31279   49.522434  43.440994  28.869234  33.848164  39.509537\n",
            " 25.056246  38.702183  17.090664  42.03067   46.144928  54.379993\n",
            " 17.638607  42.817287  35.64145   39.722233  23.17796   44.2344\n",
            " 38.39382   28.967867  41.12865   25.024721  40.3494    36.31279\n",
            " 40.44262   56.49759   24.19259   15.562679  50.425358  38.726814\n",
            " 30.629972  32.9343    38.109123  47.807545  40.220615  39.12596\n",
            " 16.86838   37.94659   27.268898  16.402039  48.784676  58.93047\n",
            " 24.594545  37.94659   26.521168  49.78353   45.729607  39.12596\n",
            " 50.18855   44.34452   33.9507    38.90599   26.05897   25.653904\n",
            " 50.103893  39.509537  24.486181  17.3825    23.637527  46.029903\n",
            " 50.18855   48.784676  41.251728  52.19328   27.481049  22.889244\n",
            " 42.171886  26.05897   42.17799   37.251648  39.737343  33.57352\n",
            " 43.893444  24.701984  39.857674  29.947525  37.747837  56.04104\n",
            " 45.383415  39.248558  36.31279   35.46064   38.81948   27.268898\n",
            " 29.761961  43.917362  48.679714  40.50453   67.00384   45.059555\n",
            " 37.901974  19.951159  50.18855   17.090664  38.051544  49.158062\n",
            " 56.698715  36.817158  57.308304  28.483625  40.328957  49.38786\n",
            " 27.308573  55.415268  38.19161   48.021824  44.35935   49.478924\n",
            " 36.319283  44.145958  54.779236  43.431587  56.77765   49.538956\n",
            " 37.107307  57.308304  17.711733  56.49759   24.186684  17.090664\n",
            " 23.637527  23.637527  35.22764   35.591846  45.383415  25.443567\n",
            " 16.666613  38.81948   39.676373  24.594545  39.676373  40.50453\n",
            " 40.64863   26.729858  44.69073   35.2007    39.248558  45.727177\n",
            " 29.761961  24.818834  39.98251   40.419777  40.3494    44.944504\n",
            " 16.402039  50.483017  17.875425  49.43387   46.636806  25.163477\n",
            " 20.859604  46.63175   27.2648    49.158062  30.259874  42.34851\n",
            " 40.893734  13.4696665 52.76889   39.248558  30.364964  34.272423\n",
            " 44.804104  57.308304  25.443567  48.784676  16.86838   29.761961\n",
            " 43.606255  27.268898  45.71002   24.048073  37.797935  46.666958\n",
            " 32.751377 ]\n"
          ]
        }
      ]
    },
    {
      "cell_type": "code",
      "metadata": {
        "colab": {
          "base_uri": "https://localhost:8080/"
        },
        "id": "DI14ZB7p7KF3",
        "outputId": "cb388a58-3757-4fdc-a122-37b9a84c3aed"
      },
      "source": [
        "# r squared error\n",
        "from sklearn import metrics\n",
        "score_1 = metrics.r2_score(y_train,training_data_prediction)\n",
        "\n",
        "# mean absolute error\n",
        "score_2 = metrics.mean_absolute_error(y_train,training_data_prediction)\n",
        "\n",
        "print(\"r squared error: \", score_1)\n",
        "print(\"mean absolute error: \",score_2)"
      ],
      "execution_count": null,
      "outputs": [
        {
          "output_type": "stream",
          "name": "stdout",
          "text": [
            "r squared error:  0.9104981850923254\n",
            "mean absolute error:  3.00295205418797\n"
          ]
        }
      ]
    },
    {
      "cell_type": "markdown",
      "metadata": {
        "id": "hWpMroyY-Rvl"
      },
      "source": [
        "visualizing the actual prices and predicted prices"
      ]
    },
    {
      "cell_type": "code",
      "metadata": {
        "colab": {
          "base_uri": "https://localhost:8080/",
          "height": 295
        },
        "id": "rnnCFShO-RMl",
        "outputId": "2bd017a6-2409-4a42-f23a-7297711fe749"
      },
      "source": [
        "plt.scatter(y_train,training_data_prediction)\n",
        "plt.xlabel(\"actual prices\")\n",
        "plt.ylabel(\"predicted prices\")\n",
        "plt.title(\"actual price vs predicted price\")\n",
        "plt.show()"
      ],
      "execution_count": null,
      "outputs": [
        {
          "output_type": "display_data",
          "data": {
            "text/plain": [
              "<Figure size 432x288 with 1 Axes>"
            ],
            "image/png": "[encoded data removed]"
          },
          "metadata": {
            "needs_background": "light"
          }
        }
      ]
    },
    {
      "cell_type": "markdown",
      "metadata": {
        "id": "sPZDOA9o9IBZ"
      },
      "source": [
        "prediction on test data"
      ]
    },
    {
      "cell_type": "code",
      "metadata": {
        "id": "ino1hKAn8lYT"
      },
      "source": [
        "test_data_prediction = model.predict(x_test)"
      ],
      "execution_count": null,
      "outputs": []
    },
    {
      "cell_type": "code",
      "metadata": {
        "colab": {
          "base_uri": "https://localhost:8080/"
        },
        "id": "NXOtuROS9Uqg",
        "outputId": "0614e598-cddb-4deb-acc9-415289a0769b"
      },
      "source": [
        "print(test_data_prediction)"
      ],
      "execution_count": null,
      "outputs": [
        {
          "output_type": "stream",
          "name": "stdout",
          "text": [
            "[47.033405 43.13516  25.443567 36.258717 27.508226 33.180702 40.176285\n",
            " 35.812744 39.951557 57.308304 48.784676 25.024721 39.368275 47.766068\n",
            " 49.28744  29.947525 39.248558 28.258413 15.562679 21.94413  44.084126\n",
            " 15.403787 34.996067 37.19468  26.880262 24.969475 25.163477 56.49759\n",
            " 21.903004 41.845352 48.75644  39.10566  28.04801  50.483017 26.424635\n",
            " 25.443567 46.66619  27.740822 27.308573 21.903004 24.818834 41.268543\n",
            " 46.28916  36.079777 31.044231 45.727177 48.59859  21.903004 42.30703\n",
            " 38.479977 26.081398 41.11509  50.16632  40.86997  48.784676 50.18855\n",
            " 46.029903 16.678894 40.07928  42.679424 15.562679 49.38786  24.701984\n",
            " 44.152615 37.732555 40.419777 54.033745 21.09408  16.310722 16.297913\n",
            " 27.268898 29.761961 16.854273 25.443567 15.562679 24.684093 38.589058\n",
            " 52.17019  40.419777 28.307959 17.638607 37.901974 49.158062]\n"
          ]
        }
      ]
    },
    {
      "cell_type": "code",
      "metadata": {
        "colab": {
          "base_uri": "https://localhost:8080/"
        },
        "id": "sEBoO4Ms9d43",
        "outputId": "48eaa696-8906-4f79-b653-7db5b00e3ea9"
      },
      "source": [
        "# r squared error\n",
        "score_3 = metrics.r2_score(y_test,test_data_prediction)\n",
        "\n",
        "# mean absolute error\n",
        "score_4 = metrics.mean_absolute_error(y_test,test_data_prediction)\n",
        "\n",
        "print(\"r squared error: \", score_3)\n",
        "print(\"mean absolute error: \",score_4)"
      ],
      "execution_count": null,
      "outputs": [
        {
          "output_type": "stream",
          "name": "stdout",
          "text": [
            "r squared error:  0.5649669084514715\n",
            "mean absolute error:  4.766286594896431\n"
          ]
        }
      ]
    },
    {
      "cell_type": "code",
      "metadata": {
        "colab": {
          "base_uri": "https://localhost:8080/",
          "height": 295
        },
        "id": "-cU1H90l9yDk",
        "outputId": "b6b2cd02-0c39-41b1-e251-c6304712d330"
      },
      "source": [
        "plt.scatter(y_test,test_data_prediction)\n",
        "plt.xlabel(\"actual prices\")\n",
        "plt.ylabel(\"predicted prices\")\n",
        "plt.title(\"actual price vs predicted price\")\n",
        "plt.show()"
      ],
      "execution_count": null,
      "outputs": [
        {
          "output_type": "display_data",
          "data": {
            "text/plain": [
              "<Figure size 432x288 with 1 Axes>"
            ],
            "image/png": "[encoded data removed]"
          },
          "metadata": {
            "needs_background": "light"
          }
        }
      ]
    },
    {
      "cell_type": "code",
      "metadata": {
        "id": "zO-PvWdz_VJU"
      },
      "source": [],
      "execution_count": null,
      "outputs": []
    }
  ]
}